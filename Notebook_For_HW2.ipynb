{
 "cells": [
  {
   "cell_type": "code",
   "execution_count": 1,
   "metadata": {},
   "outputs": [],
   "source": [
    "import numpy as np \n",
    "import matplotlib.pyplot as plt \n"
   ]
  },
  {
   "cell_type": "code",
   "execution_count": 23,
   "metadata": {},
   "outputs": [],
   "source": [
    "input_size = 4\n",
    "hidden_size = 10\n",
    "num_classes = 3\n",
    "num_inputs = 5\n",
    "std = 1e-1\n",
    "output_size= 3\n",
    "\n",
    "#def init_toy_model():\n",
    "#    np.random.seed(0)\n",
    "#    return TwoLayerNet(input_size, hidden_size, num_classes, std=1e-1)\n",
    "\n",
    "def init_toy_data():\n",
    "    np.random.seed(1)\n",
    "    X = 10 * np.random.randn(num_inputs, input_size)\n",
    "    y = np.array([0, 1, 2, 2, 1])\n",
    "    return X, y\n",
    "\n",
    "#net = init_toy_model()\n",
    "X, y = init_toy_data()"
   ]
  },
  {
   "cell_type": "code",
   "execution_count": 24,
   "metadata": {},
   "outputs": [
    {
     "data": {
      "text/plain": [
       "(5, 4)"
      ]
     },
     "execution_count": 24,
     "metadata": {},
     "output_type": "execute_result"
    }
   ],
   "source": [
    "X.shape"
   ]
  },
  {
   "cell_type": "code",
   "execution_count": 25,
   "metadata": {},
   "outputs": [],
   "source": [
    "params = std * np.random.randn(input_size, hidden_size)"
   ]
  },
  {
   "cell_type": "code",
   "execution_count": 26,
   "metadata": {
    "scrolled": true
   },
   "outputs": [
    {
     "data": {
      "text/plain": [
       "(4, 10)"
      ]
     },
     "execution_count": 26,
     "metadata": {},
     "output_type": "execute_result"
    }
   ],
   "source": [
    "params.shape"
   ]
  },
  {
   "cell_type": "code",
   "execution_count": 27,
   "metadata": {},
   "outputs": [],
   "source": [
    "N, D = X.shape"
   ]
  },
  {
   "cell_type": "code",
   "execution_count": 28,
   "metadata": {},
   "outputs": [],
   "source": [
    "W1 = std * np.random.randn(input_size, hidden_size)\n",
    "b1 = np.zeros(hidden_size)\n",
    "W2 = std * np.random.randn(hidden_size, output_size)\n",
    "b2 = np.zeros(output_size)"
   ]
  },
  {
   "cell_type": "code",
   "execution_count": 30,
   "metadata": {},
   "outputs": [],
   "source": [
    "step1 = np.dot(X, W1) + b1"
   ]
  },
  {
   "cell_type": "code",
   "execution_count": 47,
   "metadata": {},
   "outputs": [
    {
     "data": {
      "text/plain": [
       "array([[-1.51093074,  2.25106852,  1.03940399, -0.55144768,  0.04129802,\n",
       "         0.96849953,  2.7486483 ,  1.71599202,  4.01026625, -4.08008554],\n",
       "       [ 1.37027675,  1.75406198,  0.68674588, -1.07283956, -0.28004985,\n",
       "         4.73754991,  0.77562543,  0.0352369 ,  2.0463458 , -1.52294679],\n",
       "       [-2.67557051, -0.14946547,  1.16964886,  1.60182044, -0.50537598,\n",
       "         0.49483881,  0.16519853,  0.74063198,  2.09531002, -0.42217677],\n",
       "       [-0.77289909, -0.64146923,  0.39744991,  0.92705179, -0.51969921,\n",
       "         0.8508635 , -0.62943255, -0.42788387,  0.02701475,  0.67041573],\n",
       "       [ 2.08716922,  0.32625702, -0.43977978, -1.07270463, -0.10612718,\n",
       "         1.83833582, -0.15503538, -0.94755651, -0.93504884,  0.02636087]])"
      ]
     },
     "execution_count": 47,
     "metadata": {},
     "output_type": "execute_result"
    }
   ],
   "source": [
    "step1"
   ]
  },
  {
   "cell_type": "code",
   "execution_count": 40,
   "metadata": {},
   "outputs": [],
   "source": []
  },
  {
   "cell_type": "code",
   "execution_count": 66,
   "metadata": {},
   "outputs": [],
   "source": [
    "for inx, el in enumerate(step1, 0):\n",
    "    for ind2 , el2 in enumerate(el, 0):\n",
    "        if el2 < 0:\n",
    "            step1[inx][ind2] = 0"
   ]
  },
  {
   "cell_type": "code",
   "execution_count": 68,
   "metadata": {},
   "outputs": [
    {
     "data": {
      "text/plain": [
       "array([[0.        , 2.25106852, 1.03940399, 0.        , 0.04129802,\n",
       "        0.96849953, 2.7486483 , 1.71599202, 4.01026625, 0.        ],\n",
       "       [1.37027675, 1.75406198, 0.68674588, 0.        , 0.        ,\n",
       "        4.73754991, 0.77562543, 0.0352369 , 2.0463458 , 0.        ],\n",
       "       [0.        , 0.        , 1.16964886, 1.60182044, 0.        ,\n",
       "        0.49483881, 0.16519853, 0.74063198, 2.09531002, 0.        ],\n",
       "       [0.        , 0.        , 0.39744991, 0.92705179, 0.        ,\n",
       "        0.8508635 , 0.        , 0.        , 0.02701475, 0.67041573],\n",
       "       [2.08716922, 0.32625702, 0.        , 0.        , 0.        ,\n",
       "        1.83833582, 0.        , 0.        , 0.        , 0.02636087]])"
      ]
     },
     "execution_count": 68,
     "metadata": {},
     "output_type": "execute_result"
    }
   ],
   "source": [
    "step1"
   ]
  },
  {
   "cell_type": "code",
   "execution_count": 69,
   "metadata": {},
   "outputs": [],
   "source": [
    "step2 = np.dot(step1, W2) + b2"
   ]
  },
  {
   "cell_type": "code",
   "execution_count": 70,
   "metadata": {},
   "outputs": [
    {
     "data": {
      "text/plain": [
       "array([[-0.48288681,  0.4738051 ,  0.83893654],\n",
       "       [-0.8239538 ,  0.18107553, -0.36066668],\n",
       "       [-0.4012836 ,  0.02669508,  0.42571644],\n",
       "       [-0.06155891, -0.24555372, -0.05656703],\n",
       "       [-0.31430811,  0.2095783 , -0.20501561]])"
      ]
     },
     "execution_count": 70,
     "metadata": {},
     "output_type": "execute_result"
    }
   ],
   "source": [
    "step2"
   ]
  },
  {
   "cell_type": "code",
   "execution_count": null,
   "metadata": {},
   "outputs": [],
   "source": []
  }
 ],
 "metadata": {
  "kernelspec": {
   "display_name": "Python 3",
   "language": "python",
   "name": "python3"
  },
  "language_info": {
   "codemirror_mode": {
    "name": "ipython",
    "version": 3
   },
   "file_extension": ".py",
   "mimetype": "text/x-python",
   "name": "python",
   "nbconvert_exporter": "python",
   "pygments_lexer": "ipython3",
   "version": "3.8.5"
  }
 },
 "nbformat": 4,
 "nbformat_minor": 4
}
