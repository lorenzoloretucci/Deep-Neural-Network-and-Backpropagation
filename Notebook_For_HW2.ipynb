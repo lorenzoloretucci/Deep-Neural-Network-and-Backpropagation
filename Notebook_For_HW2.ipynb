{
 "cells": [
  {
   "cell_type": "code",
   "execution_count": 2,
   "metadata": {},
   "outputs": [],
   "source": [
    "import numpy as np \n",
    "import matplotlib.pyplot as plt \n"
   ]
  },
  {
   "cell_type": "code",
   "execution_count": 3,
   "metadata": {},
   "outputs": [],
   "source": [
    "input_size = 4\n",
    "hidden_size = 10\n",
    "num_classes = 3\n",
    "num_inputs = 5\n",
    "std = 1e-1\n",
    "output_size= 3\n",
    "\n",
    "#def init_toy_model():\n",
    "#    np.random.seed(0)\n",
    "#    return TwoLayerNet(input_size, hidden_size, num_classes, std=1e-1)\n",
    "\n",
    "def init_toy_data():\n",
    "    np.random.seed(1)\n",
    "    X = 10 * np.random.randn(num_inputs, input_size)\n",
    "    y = np.array([0, 1, 2, 2, 1])\n",
    "    return X, y\n",
    "\n",
    "#net = init_toy_model()\n",
    "X, y = init_toy_data()"
   ]
  },
  {
   "cell_type": "code",
   "execution_count": 184,
   "metadata": {},
   "outputs": [
    {
     "data": {
      "text/plain": [
       "array([0, 1, 2, 2, 1])"
      ]
     },
     "execution_count": 184,
     "metadata": {},
     "output_type": "execute_result"
    }
   ],
   "source": [
    "y"
   ]
  },
  {
   "cell_type": "code",
   "execution_count": 4,
   "metadata": {},
   "outputs": [
    {
     "data": {
      "text/plain": [
       "(5, 4)"
      ]
     },
     "execution_count": 4,
     "metadata": {},
     "output_type": "execute_result"
    }
   ],
   "source": [
    "X.shape"
   ]
  },
  {
   "cell_type": "code",
   "execution_count": 5,
   "metadata": {},
   "outputs": [],
   "source": [
    "params = std * np.random.randn(input_size, hidden_size)"
   ]
  },
  {
   "cell_type": "code",
   "execution_count": 6,
   "metadata": {
    "scrolled": true
   },
   "outputs": [
    {
     "data": {
      "text/plain": [
       "(4, 10)"
      ]
     },
     "execution_count": 6,
     "metadata": {},
     "output_type": "execute_result"
    }
   ],
   "source": [
    "params.shape"
   ]
  },
  {
   "cell_type": "code",
   "execution_count": 7,
   "metadata": {},
   "outputs": [],
   "source": [
    "N, D = X.shape"
   ]
  },
  {
   "cell_type": "code",
   "execution_count": 60,
   "metadata": {},
   "outputs": [
    {
     "data": {
      "text/plain": [
       "(5, 4)"
      ]
     },
     "execution_count": 60,
     "metadata": {},
     "output_type": "execute_result"
    }
   ],
   "source": [
    "N , D"
   ]
  },
  {
   "cell_type": "code",
   "execution_count": 70,
   "metadata": {},
   "outputs": [],
   "source": [
    "np.random.seed(0)\n",
    "W1 = std * np.random.randn(input_size, hidden_size)\n",
    "b1 = np.zeros(hidden_size)\n",
    "W2 = std * np.random.randn(hidden_size, output_size)\n",
    "b2 = np.zeros(output_size)"
   ]
  },
  {
   "cell_type": "code",
   "execution_count": 143,
   "metadata": {
    "scrolled": true
   },
   "outputs": [
    {
     "data": {
      "text/plain": [
       "(4, 10)"
      ]
     },
     "execution_count": 143,
     "metadata": {},
     "output_type": "execute_result"
    }
   ],
   "source": [
    "W1.shape"
   ]
  },
  {
   "cell_type": "code",
   "execution_count": 142,
   "metadata": {},
   "outputs": [
    {
     "data": {
      "text/plain": [
       "(5, 4)"
      ]
     },
     "execution_count": 142,
     "metadata": {},
     "output_type": "execute_result"
    }
   ],
   "source": [
    "X.shape"
   ]
  },
  {
   "cell_type": "code",
   "execution_count": 164,
   "metadata": {},
   "outputs": [],
   "source": [
    "step1 = np.dot(X, W1) + b1"
   ]
  },
  {
   "cell_type": "code",
   "execution_count": 165,
   "metadata": {},
   "outputs": [
    {
     "data": {
      "text/plain": [
       "array([[ 3.95947405, -0.99064704,  1.62023427,  6.08287206,  1.93650153,\n",
       "        -1.19116687, -0.71497239, -1.31160012, -0.7531654 ,  0.73773989],\n",
       "       [-3.37733121, -2.14818616,  1.27951663,  1.87210399,  4.81975823,\n",
       "        -4.27031636, -3.47313279, -0.90066642,  2.15938324,  5.11493888],\n",
       "       [-3.52507871, -0.058394  ,  3.21533801,  3.68018447,  4.52051191,\n",
       "        -2.84353882, -2.53713173, -2.74788314,  2.92803574,  3.11513047],\n",
       "       [-3.68900855, -0.3624225 ,  1.34869732,  0.56798438,  2.18344354,\n",
       "        -1.6339401 , -2.18143879, -1.40711833,  2.07688014,  2.1940494 ],\n",
       "       [-0.44808779, -1.09765407, -1.31776936, -1.67897452, -0.8186224 ,\n",
       "        -0.09468021, -0.75644817,  0.8990617 , -0.41806688,  0.56481687]])"
      ]
     },
     "execution_count": 165,
     "metadata": {},
     "output_type": "execute_result"
    }
   ],
   "source": [
    "step1"
   ]
  },
  {
   "cell_type": "code",
   "execution_count": 168,
   "metadata": {},
   "outputs": [],
   "source": [
    "#ReLU\n",
    "for inx, el in enumerate(step1, 0):\n",
    "    for ind2 , el2 in enumerate(el, 0):\n",
    "        if el2 < 0:\n",
    "            step1[inx][ind2] = 0"
   ]
  },
  {
   "cell_type": "code",
   "execution_count": 169,
   "metadata": {},
   "outputs": [
    {
     "data": {
      "text/plain": [
       "array([[3.95947405, 0.        , 1.62023427, 6.08287206, 1.93650153,\n",
       "        0.        , 0.        , 0.        , 0.        , 0.73773989],\n",
       "       [0.        , 0.        , 1.27951663, 1.87210399, 4.81975823,\n",
       "        0.        , 0.        , 0.        , 2.15938324, 5.11493888],\n",
       "       [0.        , 0.        , 3.21533801, 3.68018447, 4.52051191,\n",
       "        0.        , 0.        , 0.        , 2.92803574, 3.11513047],\n",
       "       [0.        , 0.        , 1.34869732, 0.56798438, 2.18344354,\n",
       "        0.        , 0.        , 0.        , 2.07688014, 2.1940494 ],\n",
       "       [0.        , 0.        , 0.        , 0.        , 0.        ,\n",
       "        0.        , 0.        , 0.8990617 , 0.        , 0.56481687]])"
      ]
     },
     "execution_count": 169,
     "metadata": {},
     "output_type": "execute_result"
    }
   ],
   "source": [
    "relu"
   ]
  },
  {
   "cell_type": "code",
   "execution_count": 170,
   "metadata": {},
   "outputs": [
    {
     "data": {
      "text/plain": [
       "array([[-0.1048553 , -0.14200179, -0.17062702],\n",
       "       [ 0.19507754, -0.05096522, -0.04380743],\n",
       "       [-0.12527954,  0.07774904, -0.16138978],\n",
       "       [-0.02127403, -0.08954666,  0.03869025],\n",
       "       [-0.05108051, -0.11806322, -0.00281822],\n",
       "       [ 0.04283319,  0.00665172,  0.03024719],\n",
       "       [-0.06343221, -0.03627412, -0.06724604],\n",
       "       [-0.03595532, -0.08131463, -0.17262826],\n",
       "       [ 0.01774261, -0.04017809, -0.16301983],\n",
       "       [ 0.04627823, -0.09072984,  0.00519454]])"
      ]
     },
     "execution_count": 170,
     "metadata": {},
     "output_type": "execute_result"
    }
   ],
   "source": [
    "W2"
   ]
  },
  {
   "cell_type": "code",
   "execution_count": 171,
   "metadata": {},
   "outputs": [],
   "source": [
    "step2 = np.dot(relu,W2) + b2"
   ]
  },
  {
   "cell_type": "code",
   "execution_count": 172,
   "metadata": {
    "scrolled": true
   },
   "outputs": [
    {
     "data": {
      "text/plain": [
       "array([[-0.81233741, -1.27654624, -0.70335995],\n",
       "       [-0.17129677, -1.18803311, -0.47310444],\n",
       "       [-0.51590475, -1.01354314, -0.8504215 ],\n",
       "       [-0.15419291, -0.48629638, -0.52901952],\n",
       "       [-0.00618733, -0.12435261, -0.15226949]])"
      ]
     },
     "execution_count": 172,
     "metadata": {},
     "output_type": "execute_result"
    }
   ],
   "source": [
    "step2"
   ]
  },
  {
   "cell_type": "code",
   "execution_count": 173,
   "metadata": {},
   "outputs": [],
   "source": [
    "scores = 0.\n",
    "\n",
    "#############################################################################\n",
    "# TODO: Perform the forward pass, computing the class probabilities for the #\n",
    "# input. Store the result in the scores variable, which should be an array  #\n",
    "# of shape (N, C).                                                          #\n",
    "#############################################################################\n",
    "\n",
    "# *****START OF YOUR CODE (DO NOT DELETE/MODIFY THIS LINE)*****\n",
    "\n",
    "step1 = np.dot(X, W1) + b1                #(5 , 10)\n",
    "\n",
    "for inx, el in enumerate(step1, 0):       #Relu function\n",
    "    for ind2 , el2 in enumerate(el, 0):\n",
    "        if el2 < 0:\n",
    "            step1[inx][ind2] = 0\n",
    "\n",
    "step2 = np.dot(step1, W2) + b2          #(5 , 3)\n",
    "\n",
    "scores += step2 "
   ]
  },
  {
   "cell_type": "code",
   "execution_count": 174,
   "metadata": {},
   "outputs": [
    {
     "data": {
      "text/plain": [
       "array([[-0.81233741, -1.27654624, -0.70335995],\n",
       "       [-0.17129677, -1.18803311, -0.47310444],\n",
       "       [-0.51590475, -1.01354314, -0.8504215 ],\n",
       "       [-0.15419291, -0.48629638, -0.52901952],\n",
       "       [-0.00618733, -0.12435261, -0.15226949]])"
      ]
     },
     "execution_count": 174,
     "metadata": {},
     "output_type": "execute_result"
    }
   ],
   "source": [
    "scores"
   ]
  },
  {
   "cell_type": "code",
   "execution_count": 183,
   "metadata": {},
   "outputs": [
    {
     "data": {
      "text/plain": [
       "array([[0.44381946, 0.27899923, 0.4949196 ],\n",
       "       [0.84257149, 0.30482022, 0.62306499],\n",
       "       [0.59696025, 0.36293078, 0.42723482],\n",
       "       [0.85710666, 0.61489953, 0.58918237],\n",
       "       [0.99383178, 0.88306841, 0.85875682]])"
      ]
     },
     "execution_count": 183,
     "metadata": {},
     "output_type": "execute_result"
    }
   ],
   "source": [
    "### Loss function\n",
    "numerator = np.exp(scores)\n",
    "numerator"
   ]
  },
  {
   "cell_type": "code",
   "execution_count": 181,
   "metadata": {},
   "outputs": [
    {
     "data": {
      "text/plain": [
       "array([1.2177383 , 1.7704567 , 1.38712585, 2.06118856, 2.735657  ])"
      ]
     },
     "execution_count": 181,
     "metadata": {},
     "output_type": "execute_result"
    }
   ],
   "source": [
    "denom = np.sum(numerator, axis = 1)\n",
    "denom"
   ]
  },
  {
   "cell_type": "code",
   "execution_count": 194,
   "metadata": {},
   "outputs": [
    {
     "name": "stdout",
     "output_type": "stream",
     "text": [
      "1.0093326997358134\n",
      "1.7592706445552908\n",
      "1.1776553679162312\n",
      "1.252302310512784\n",
      "1.1307242378701479\n"
     ]
    }
   ],
   "source": [
    "J = []\n",
    "for i, score in enumerate(numerator):\n",
    "    \n",
    "    score_i = score[y[i]]/ denom[i]\n",
    "    \n",
    "    log_score_i = -np.log(score_i) \n",
    "    print(log_score_i)\n",
    "    J.append(log_score_i)\n",
    "\n",
    "JJ = np.mean(J)"
   ]
  },
  {
   "cell_type": "code",
   "execution_count": 195,
   "metadata": {},
   "outputs": [
    {
     "name": "stdout",
     "output_type": "stream",
     "text": [
      "[1.0093326997358134, 1.7592706445552908, 1.1776553679162312, 1.252302310512784, 1.1307242378701479]\n",
      "1.2658570521180532\n"
     ]
    }
   ],
   "source": [
    "print(J)\n",
    "print(JJ)"
   ]
  },
  {
   "cell_type": "code",
   "execution_count": 110,
   "metadata": {},
   "outputs": [
    {
     "data": {
      "text/plain": [
       "array([[2.12989502, 2.17047609, 1.79968917],\n",
       "       [1.48885438, 2.08196296, 1.56943366],\n",
       "       [1.83346236, 1.90747299, 1.94675071],\n",
       "       [1.47175052, 1.38022624, 1.62534874],\n",
       "       [1.32374493, 1.01828246, 1.24859871]])"
      ]
     },
     "execution_count": 110,
     "metadata": {},
     "output_type": "execute_result"
    }
   ],
   "source": [
    "theLog=  - np.log(f)\n",
    "theLog"
   ]
  },
  {
   "cell_type": "code",
   "execution_count": 129,
   "metadata": {},
   "outputs": [
    {
     "data": {
      "text/plain": [
       "1.666396597280801"
      ]
     },
     "execution_count": 129,
     "metadata": {},
     "output_type": "execute_result"
    }
   ],
   "source": [
    "thelog2 = np.sum(theLog)/theLog.size\n",
    "thelog2"
   ]
  },
  {
   "cell_type": "code",
   "execution_count": 132,
   "metadata": {},
   "outputs": [
    {
     "name": "stdout",
     "output_type": "stream",
     "text": [
      "0.03793083921176699\n"
     ]
    }
   ],
   "source": [
    "# take square of differences and sum them\n",
    "l2 = np.sum(np.power((W1),2)) + np.sum(np.power((W2),2))\n",
    "l2 = 0.05* l2\n",
    "print(l2)"
   ]
  },
  {
   "cell_type": "code",
   "execution_count": 133,
   "metadata": {},
   "outputs": [
    {
     "data": {
      "text/plain": [
       "1.704327436492568"
      ]
     },
     "execution_count": 133,
     "metadata": {},
     "output_type": "execute_result"
    }
   ],
   "source": [
    "thelog2 + l2  #1.66 0.75"
   ]
  },
  {
   "cell_type": "code",
   "execution_count": null,
   "metadata": {},
   "outputs": [],
   "source": []
  },
  {
   "cell_type": "code",
   "execution_count": null,
   "metadata": {},
   "outputs": [],
   "source": []
  }
 ],
 "metadata": {
  "kernelspec": {
   "display_name": "Python 3",
   "language": "python",
   "name": "python3"
  },
  "language_info": {
   "codemirror_mode": {
    "name": "ipython",
    "version": 3
   },
   "file_extension": ".py",
   "mimetype": "text/x-python",
   "name": "python",
   "nbconvert_exporter": "python",
   "pygments_lexer": "ipython3",
   "version": "3.8.5"
  }
 },
 "nbformat": 4,
 "nbformat_minor": 4
}
