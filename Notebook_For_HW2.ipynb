{
 "cells": [
  {
   "cell_type": "code",
   "execution_count": 2,
   "metadata": {},
   "outputs": [],
   "source": [
    "import numpy as np \n",
    "import matplotlib.pyplot as plt \n"
   ]
  },
  {
   "cell_type": "code",
   "execution_count": 276,
   "metadata": {},
   "outputs": [],
   "source": [
    "input_size = 4\n",
    "hidden_size = 10\n",
    "num_classes = 3\n",
    "num_inputs = 5\n",
    "std = 1e-1\n",
    "output_size= 3\n",
    "\n",
    "#def init_toy_model():\n",
    "#    np.random.seed(0)\n",
    "#    return TwoLayerNet(input_size, hidden_size, num_classes, std=1e-1)\n",
    "\n",
    "def init_toy_data():\n",
    "    np.random.seed(1)\n",
    "    X = 10 * np.random.randn(num_inputs, input_size)\n",
    "    y = np.array([0, 1, 2, 2, 1])\n",
    "    return X, y\n",
    "\n",
    "#net = init_toy_model()\n",
    "X, y = init_toy_data()"
   ]
  },
  {
   "cell_type": "code",
   "execution_count": 277,
   "metadata": {},
   "outputs": [
    {
     "data": {
      "text/plain": [
       "array([0, 1, 2, 2, 1])"
      ]
     },
     "execution_count": 277,
     "metadata": {},
     "output_type": "execute_result"
    }
   ],
   "source": [
    "y"
   ]
  },
  {
   "cell_type": "code",
   "execution_count": 4,
   "metadata": {},
   "outputs": [
    {
     "data": {
      "text/plain": [
       "(5, 4)"
      ]
     },
     "execution_count": 4,
     "metadata": {},
     "output_type": "execute_result"
    }
   ],
   "source": [
    "X.shape"
   ]
  },
  {
   "cell_type": "code",
   "execution_count": 5,
   "metadata": {},
   "outputs": [],
   "source": [
    "params = std * np.random.randn(input_size, hidden_size)"
   ]
  },
  {
   "cell_type": "code",
   "execution_count": 6,
   "metadata": {
    "scrolled": true
   },
   "outputs": [
    {
     "data": {
      "text/plain": [
       "(4, 10)"
      ]
     },
     "execution_count": 6,
     "metadata": {},
     "output_type": "execute_result"
    }
   ],
   "source": [
    "params.shape"
   ]
  },
  {
   "cell_type": "code",
   "execution_count": 7,
   "metadata": {},
   "outputs": [],
   "source": [
    "N, D = X.shape"
   ]
  },
  {
   "cell_type": "code",
   "execution_count": 60,
   "metadata": {},
   "outputs": [
    {
     "data": {
      "text/plain": [
       "(5, 4)"
      ]
     },
     "execution_count": 60,
     "metadata": {},
     "output_type": "execute_result"
    }
   ],
   "source": [
    "N , D"
   ]
  },
  {
   "cell_type": "code",
   "execution_count": 70,
   "metadata": {},
   "outputs": [],
   "source": [
    "np.random.seed(0)\n",
    "W1 = std * np.random.randn(input_size, hidden_size)\n",
    "b1 = np.zeros(hidden_size)\n",
    "W2 = std * np.random.randn(hidden_size, output_size)\n",
    "b2 = np.zeros(output_size)"
   ]
  },
  {
   "cell_type": "code",
   "execution_count": 197,
   "metadata": {},
   "outputs": [
    {
     "data": {
      "text/plain": [
       "(10,)"
      ]
     },
     "execution_count": 197,
     "metadata": {},
     "output_type": "execute_result"
    }
   ],
   "source": [
    "b1.shape"
   ]
  },
  {
   "cell_type": "code",
   "execution_count": 143,
   "metadata": {
    "scrolled": true
   },
   "outputs": [
    {
     "data": {
      "text/plain": [
       "(4, 10)"
      ]
     },
     "execution_count": 143,
     "metadata": {},
     "output_type": "execute_result"
    }
   ],
   "source": [
    "W1.shape"
   ]
  },
  {
   "cell_type": "code",
   "execution_count": 142,
   "metadata": {},
   "outputs": [
    {
     "data": {
      "text/plain": [
       "(5, 4)"
      ]
     },
     "execution_count": 142,
     "metadata": {},
     "output_type": "execute_result"
    }
   ],
   "source": [
    "X.shape"
   ]
  },
  {
   "cell_type": "code",
   "execution_count": 208,
   "metadata": {},
   "outputs": [
    {
     "name": "stdout",
     "output_type": "stream",
     "text": [
      "[array([-0.81233741, -1.27654624, -0.70335995]), array([-0.17129677, -1.18803311, -0.47310444]), array([-0.51590475, -1.01354314, -0.8504215 ]), array([-0.15419291, -0.48629638, -0.52901952]), array([-0.00618733, -0.12435261, -0.15226949])]\n"
     ]
    }
   ],
   "source": [
    "Z_3 = []\n",
    "for i in range(len(X)):\n",
    "    xi = X[i,:]\n",
    "    z_2 = np.dot(W1.T, xi ) + b1\n",
    "    z_2[z_2 < 0] = 0\n",
    "    a_2 = z_2\n",
    "    z_3 = np.dot(W2.T, a_2) + b2\n",
    "    Z_3.append(z_3)\n",
    "    \n",
    "print(Z_3) "
   ]
  },
  {
   "cell_type": "code",
   "execution_count": 211,
   "metadata": {},
   "outputs": [],
   "source": [
    "step1 = np.dot(X, W1) + b1"
   ]
  },
  {
   "cell_type": "code",
   "execution_count": 213,
   "metadata": {},
   "outputs": [
    {
     "data": {
      "text/plain": [
       "array([[3.95947405, 0.        , 1.62023427, 6.08287206, 1.93650153,\n",
       "        0.        , 0.        , 0.        , 0.        , 0.73773989],\n",
       "       [0.        , 0.        , 1.27951663, 1.87210399, 4.81975823,\n",
       "        0.        , 0.        , 0.        , 2.15938324, 5.11493888],\n",
       "       [0.        , 0.        , 3.21533801, 3.68018447, 4.52051191,\n",
       "        0.        , 0.        , 0.        , 2.92803574, 3.11513047],\n",
       "       [0.        , 0.        , 1.34869732, 0.56798438, 2.18344354,\n",
       "        0.        , 0.        , 0.        , 2.07688014, 2.1940494 ],\n",
       "       [0.        , 0.        , 0.        , 0.        , 0.        ,\n",
       "        0.        , 0.        , 0.8990617 , 0.        , 0.56481687]])"
      ]
     },
     "execution_count": 213,
     "metadata": {},
     "output_type": "execute_result"
    }
   ],
   "source": [
    "step1\n",
    "step1[step1 < 0] = 0\n",
    "step1"
   ]
  },
  {
   "cell_type": "code",
   "execution_count": 214,
   "metadata": {},
   "outputs": [
    {
     "data": {
      "text/plain": [
       "array([[-0.1048553 , -0.14200179, -0.17062702],\n",
       "       [ 0.19507754, -0.05096522, -0.04380743],\n",
       "       [-0.12527954,  0.07774904, -0.16138978],\n",
       "       [-0.02127403, -0.08954666,  0.03869025],\n",
       "       [-0.05108051, -0.11806322, -0.00281822],\n",
       "       [ 0.04283319,  0.00665172,  0.03024719],\n",
       "       [-0.06343221, -0.03627412, -0.06724604],\n",
       "       [-0.03595532, -0.08131463, -0.17262826],\n",
       "       [ 0.01774261, -0.04017809, -0.16301983],\n",
       "       [ 0.04627823, -0.09072984,  0.00519454]])"
      ]
     },
     "execution_count": 214,
     "metadata": {},
     "output_type": "execute_result"
    }
   ],
   "source": [
    "W2"
   ]
  },
  {
   "cell_type": "code",
   "execution_count": 217,
   "metadata": {},
   "outputs": [],
   "source": [
    "scores = np.dot(relu,W2) + b2"
   ]
  },
  {
   "cell_type": "code",
   "execution_count": 292,
   "metadata": {},
   "outputs": [
    {
     "data": {
      "text/plain": [
       "array([[-0.81233741, -1.27654624, -0.70335995],\n",
       "       [-0.17129677, -1.18803311, -0.47310444],\n",
       "       [-0.51590475, -1.01354314, -0.8504215 ],\n",
       "       [-0.15419291, -0.48629638, -0.52901952],\n",
       "       [-0.00618733, -0.12435261, -0.15226949]])"
      ]
     },
     "execution_count": 292,
     "metadata": {},
     "output_type": "execute_result"
    }
   ],
   "source": [
    "scores"
   ]
  },
  {
   "cell_type": "code",
   "execution_count": 285,
   "metadata": {},
   "outputs": [],
   "source": [
    "X_norm = np.apply_along_axis(lambda x: np.exp(x) / np.sum(np.exp(x)),1, scores)"
   ]
  },
  {
   "cell_type": "code",
   "execution_count": 286,
   "metadata": {},
   "outputs": [
    {
     "data": {
      "text/plain": [
       "array([[1.0093327 , 1.47354153, 0.90035523],\n",
       "       [0.74253431, 1.75927064, 1.04434198],\n",
       "       [0.84313862, 1.34077701, 1.17765537],\n",
       "       [0.8774757 , 1.20957917, 1.25230231],\n",
       "       [1.01255895, 1.13072424, 1.15864112]])"
      ]
     },
     "execution_count": 286,
     "metadata": {},
     "output_type": "execute_result"
    }
   ],
   "source": [
    "new_norm = -np.log(X_norm)\n",
    "new_norm"
   ]
  },
  {
   "cell_type": "code",
   "execution_count": 287,
   "metadata": {},
   "outputs": [
    {
     "data": {
      "text/plain": [
       "1.2658570521180532"
      ]
     },
     "execution_count": 287,
     "metadata": {},
     "output_type": "execute_result"
    }
   ],
   "source": [
    "j2 = np.mean(new_norm[np.arange(len(y)), y])\n",
    "j2"
   ]
  },
  {
   "cell_type": "code",
   "execution_count": 237,
   "metadata": {},
   "outputs": [
    {
     "name": "stdout",
     "output_type": "stream",
     "text": [
      "0.3644621041023232\n",
      "0.1721703914527796\n",
      "0.3080000394524406\n",
      "0.2858459326005048\n",
      "0.32279938820296766\n"
     ]
    }
   ],
   "source": [
    "J = []\n",
    "for i, score in enumerate(numerator):\n",
    "    \n",
    "    score_i = score[y[i]]/ denom[i]\n",
    "    print(score_i)\n",
    "    log_score_i = -np.log(score_i) \n",
    "    \n",
    "    J.append(log_score_i)\n",
    "\n",
    "JJ = np.mean(J)"
   ]
  },
  {
   "cell_type": "code",
   "execution_count": 288,
   "metadata": {
    "scrolled": true
   },
   "outputs": [
    {
     "name": "stdout",
     "output_type": "stream",
     "text": [
      "[1.0093326997358134, 1.7592706445552908, 1.1776553679162312, 1.252302310512784, 1.1307242378701479]\n",
      "1.2658570521180532\n"
     ]
    }
   ],
   "source": [
    "print(J)\n",
    "print(JJ)"
   ]
  },
  {
   "cell_type": "code",
   "execution_count": 289,
   "metadata": {},
   "outputs": [
    {
     "name": "stdout",
     "output_type": "stream",
     "text": [
      "0.03793083921176699\n"
     ]
    }
   ],
   "source": [
    "# take square of differences and sum them\n",
    "l2 = np.sum(np.power((W1),2)) + np.sum(np.power((W2),2))\n",
    "l2 = 0.05* l2\n",
    "print(l2)"
   ]
  },
  {
   "cell_type": "code",
   "execution_count": 290,
   "metadata": {},
   "outputs": [],
   "source": [
    "loss = j2 + l2  #1.66 0.75"
   ]
  },
  {
   "cell_type": "code",
   "execution_count": 291,
   "metadata": {},
   "outputs": [
    {
     "name": "stdout",
     "output_type": "stream",
     "text": [
      "Difference between your loss and correct loss:\n",
      "1.7985612998927536e-13\n"
     ]
    }
   ],
   "source": [
    "correct_loss = 1.30378789133\n",
    "print('Difference between your loss and correct loss:')\n",
    "print(np.sum(np.abs(loss - correct_loss)))"
   ]
  },
  {
   "cell_type": "code",
   "execution_count": null,
   "metadata": {},
   "outputs": [],
   "source": []
  }
 ],
 "metadata": {
  "kernelspec": {
   "display_name": "Python 3",
   "language": "python",
   "name": "python3"
  },
  "language_info": {
   "codemirror_mode": {
    "name": "ipython",
    "version": 3
   },
   "file_extension": ".py",
   "mimetype": "text/x-python",
   "name": "python",
   "nbconvert_exporter": "python",
   "pygments_lexer": "ipython3",
   "version": "3.8.5"
  }
 },
 "nbformat": 4,
 "nbformat_minor": 4
}
